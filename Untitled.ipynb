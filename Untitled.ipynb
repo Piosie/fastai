{
 "cells": [
  {
   "cell_type": "code",
   "execution_count": 1,
   "id": "3b9a1414-ea50-4b95-8805-d6e3bf73feee",
   "metadata": {},
   "outputs": [
    {
     "name": "stderr",
     "output_type": "stream",
     "text": [
      "Extension package aext_assistant took 1.4274s to import\n",
      "****************** ENVIRONMENT Environment.PRODUCTION ******************\n",
      "****************** ENVIRONMENT Environment.PRODUCTION ******************\n",
      "A `_jupyter_server_extension_points` function was not found in jupyter_lsp. Instead, a `_jupyter_server_extension_paths` function was found and will be used for now. This function name will be deprecated in future releases of Jupyter Server.\n",
      "A `_jupyter_server_extension_points` function was not found in notebook_shim. Instead, a `_jupyter_server_extension_paths` function was found and will be used for now. This function name will be deprecated in future releases of Jupyter Server.\n",
      "Extension package panel.io.jupyter_server_extension took 1.4248s to import\n",
      "Extension package voila.server_extension took 0.2482s to import\n",
      "Enabling: voila\n",
      "- Writing config: C:\\Users\\Piotrek\\anaconda3\\etc\\jupyter\n",
      "    - Validating voila...\n",
      "      voila  ok\n",
      "    - Extension successfully enabled.\n"
     ]
    },
    {
     "data": {
      "application/vnd.jupyter.widget-view+json": {
       "model_id": "f1b3131207e44248b587b186bfaf8e3a",
       "version_major": 2,
       "version_minor": 0
      },
      "text/plain": [
       "VBox(children=(Label(value='Wybierz swojego niedźwiedzia'), FileUpload(value=(), description='Upload'), Button…"
      ]
     },
     "metadata": {},
     "output_type": "display_data"
    }
   ],
   "source": [
    "from fastai.vision.widgets import *\n",
    "from fastai.vision.all import *\n",
    "import ipywidgets as widgets\n",
    "from io import BytesIO\n",
    "from pathlib import Path\n",
    "\n",
    "# !pip install voila\n",
    "!jupyter server extension enable voila --sys-prefix\n",
    "\n",
    "# Wczytanie modelu\n",
    "path = Path()\n",
    "learn_inf = load_learner(path/'export.pkl')\n",
    "\n",
    "# Tworzenie widgetów\n",
    "lbl_pred = widgets.Label()\n",
    "btn_upload = widgets.FileUpload()\n",
    "btn_run = widgets.Button(description='Zaklasyfikuj')\n",
    "out_pl = widgets.Output()\n",
    "\n",
    "# Funkcja do klasyfikacji\n",
    "def on_click_classify(change):\n",
    "    if btn_upload.value:\n",
    "        img = Image.open(BytesIO(btn_upload.value[-1].content))\n",
    "        out_pl.clear_output()\n",
    "        \n",
    "        with out_pl:\n",
    "            display(img.to_thumb(128,128))\n",
    "        \n",
    "        pred, pred_idx, probs = learn_inf.predict(img)\n",
    "        lbl_pred.value = f'Prognoza: {pred}; Prawdopodobieństwo: {probs[pred_idx]:.04f}'\n",
    "\n",
    "# Przypisanie funkcji do przycisku\n",
    "btn_run.on_click(on_click_classify)\n",
    "\n",
    "# Tworzenie interfejsu\n",
    "display(VBox([\n",
    "    widgets.Label('Wybierz swojego niedźwiedzia'), \n",
    "    btn_upload, \n",
    "    btn_run, \n",
    "    out_pl, \n",
    "    lbl_pred\n",
    "]))\n",
    "\n"
   ]
  },
  {
   "cell_type": "code",
   "execution_count": null,
   "id": "2f8bd7b3-9d5e-45d1-af64-87db503eaf13",
   "metadata": {},
   "outputs": [],
   "source": []
  }
 ],
 "metadata": {
  "kernelspec": {
   "display_name": "Python 3 (ipykernel)",
   "language": "python",
   "name": "python3"
  },
  "language_info": {
   "codemirror_mode": {
    "name": "ipython",
    "version": 3
   },
   "file_extension": ".py",
   "mimetype": "text/x-python",
   "name": "python",
   "nbconvert_exporter": "python",
   "pygments_lexer": "ipython3",
   "version": "3.12.7"
  }
 },
 "nbformat": 4,
 "nbformat_minor": 5
}
